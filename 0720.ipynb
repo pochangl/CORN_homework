{
 "cells": [
  {
   "cell_type": "markdown",
   "id": "40995c3a-0f0a-4c1e-8efe-58cf6927f072",
   "metadata": {},
   "source": [
    "# 新作業問答"
   ]
  },
  {
   "cell_type": "markdown",
   "id": "8dd36780-bc74-4978-9cd3-40da14053c7b",
   "metadata": {},
   "source": [
    "## a218.\n",
    "https://zerojudge.tw/ShowProblem?problemid=a218"
   ]
  },
  {
   "cell_type": "markdown",
   "id": "9656c2b2-828c-4dea-9aed-a2c5f5d5713a",
   "metadata": {},
   "source": [
    "提示1. 用 while loop 取得 inputs, 需要處理 EOF 的問題"
   ]
  },
  {
   "cell_type": "code",
   "execution_count": null,
   "id": "a8d618eb-8fe4-42ac-80af-0879b1994d77",
   "metadata": {},
   "outputs": [],
   "source": [
    "while True:\n",
    "    try:\n",
    "        data = input().split()\n",
    "    except:\n",
    "        break"
   ]
  },
  {
   "cell_type": "markdown",
   "id": "b833ee8c-bcfd-4aec-9892-230912fb6270",
   "metadata": {},
   "source": [
    "提示2.\n",
    "之前作業的解答可以參考\n",
    "\n",
    "https://zerojudge.tw/ShowProblem?problemid=k911"
   ]
  },
  {
   "cell_type": "markdown",
   "id": "9f66d58e-8226-4091-ab55-26a727077de8",
   "metadata": {},
   "source": [
    "狀況1. set 不會超時, 但list 會"
   ]
  },
  {
   "cell_type": "code",
   "execution_count": 1,
   "id": "ffd27e1c-6428-488d-9d30-417da0f0b912",
   "metadata": {},
   "outputs": [],
   "source": [
    "s = {1, 2, 3}"
   ]
  },
  {
   "cell_type": "code",
   "execution_count": 2,
   "id": "03d2b888-a521-4615-a58a-4d647b57a5a9",
   "metadata": {},
   "outputs": [],
   "source": [
    "l = [1, 2, 3] "
   ]
  },
  {
   "cell_type": "markdown",
   "id": "d6bfe159-ec00-4538-a98a-50becc5a9521",
   "metadata": {},
   "source": [
    "# 舉例"
   ]
  },
  {
   "cell_type": "code",
   "execution_count": 3,
   "id": "b0aa93d2-49c1-4cec-a6b0-bfda9645223a",
   "metadata": {},
   "outputs": [],
   "source": [
    "s = set(range(1000))\n",
    "l = list(range(1000))"
   ]
  },
  {
   "cell_type": "code",
   "execution_count": 5,
   "id": "acc904be-a312-4a8e-89a7-25b3f7da0518",
   "metadata": {},
   "outputs": [
    {
     "name": "stdout",
     "output_type": "stream",
     "text": [
      "pass\n"
     ]
    }
   ],
   "source": [
    "for num in s:\n",
    "    if num not in s:\n",
    "        print('fail')\n",
    "        break\n",
    "else:\n",
    "    print('pass')"
   ]
  },
  {
   "cell_type": "code",
   "execution_count": null,
   "id": "8505789a-292d-4e23-b7a4-56efb3423d0d",
   "metadata": {},
   "outputs": [],
   "source": []
  },
  {
   "cell_type": "markdown",
   "id": "68bcb292-9347-47d5-a62d-c39758fd428e",
   "metadata": {},
   "source": [
    "## a144. 整數分拆\n",
    "https://zerojudge.tw/ShowProblem?problemid=a144"
   ]
  },
  {
   "cell_type": "markdown",
   "id": "cf1c6a96-feaa-4a8e-bf41-e17e8861e64e",
   "metadata": {
    "jp-MarkdownHeadingCollapsed": true
   },
   "source": [
    "1. 基本上就是窮舉所有正整數合的組合\n",
    "2. 數字由小到大列印出來"
   ]
  },
  {
   "cell_type": "markdown",
   "id": "89b4b0bd-5d34-4ed3-b058-92815c0ae131",
   "metadata": {},
   "source": [
    "## a264. 骰子疊疊樂\n",
    "https://zerojudge.tw/ShowProblem?problemid=a264"
   ]
  },
  {
   "cell_type": "markdown",
   "id": "2b6a1c42-b1ce-455a-bbf7-2b21f4d2851c",
   "metadata": {},
   "source": [
    "### 提示1. 找出所有情境\n",
    "\n",
    "情境1. 1個骰子\n",
    "\n",
    "情境2. 2個骰子\n",
    "\n",
    "情境3. 3個以上的骰子\n"
   ]
  },
  {
   "cell_type": "code",
   "execution_count": null,
   "id": "e1c3264c-a33d-478a-9c34-ef9b98878cef",
   "metadata": {},
   "outputs": [],
   "source": [
    "# 舊作業問答"
   ]
  },
  {
   "cell_type": "markdown",
   "id": "cfb3d2fa-c1ca-4475-a892-f11b28bb90ac",
   "metadata": {},
   "source": [
    "https://zerojudge.tw/ShowProblem?problemid=d010"
   ]
  },
  {
   "cell_type": "markdown",
   "id": "554743d9-3c46-4cff-bd3d-2679e832a70a",
   "metadata": {},
   "source": [
    "# k936. 最大公因數\n",
    "https://zerojudge.tw/ShowProblem?problemid=k936"
   ]
  },
  {
   "cell_type": "code",
   "execution_count": 10,
   "id": "0c131ad7-11ab-4328-bc6f-b9522cb9de99",
   "metadata": {},
   "outputs": [],
   "source": [
    "from math import lcm, gcd"
   ]
  },
  {
   "cell_type": "code",
   "execution_count": 11,
   "id": "0ca0d7b4-5dbc-4bab-ad6c-43c0c816afed",
   "metadata": {},
   "outputs": [
    {
     "data": {
      "text/plain": [
       "3"
      ]
     },
     "execution_count": 11,
     "metadata": {},
     "output_type": "execute_result"
    }
   ],
   "source": [
    "gcd(6, 9)"
   ]
  },
  {
   "cell_type": "code",
   "execution_count": 13,
   "id": "b04ec6e5-e8ec-4c3a-acac-db454c7815ab",
   "metadata": {},
   "outputs": [
    {
     "data": {
      "text/plain": [
       "90"
      ]
     },
     "execution_count": 13,
     "metadata": {},
     "output_type": "execute_result"
    }
   ],
   "source": [
    "lcm(6, 9, 15)"
   ]
  },
  {
   "cell_type": "markdown",
   "id": "e94b6e69-c44d-4cab-85e6-13ca91b14377",
   "metadata": {},
   "source": [
    "## a263. 日期差幾天\n",
    "https://zerojudge.tw/ShowProblem?problemid=a263"
   ]
  },
  {
   "cell_type": "code",
   "execution_count": 15,
   "id": "ee97dc48-b29b-4b0f-9903-07195e00006f",
   "metadata": {},
   "outputs": [],
   "source": [
    "from datetime import date"
   ]
  },
  {
   "cell_type": "code",
   "execution_count": 17,
   "id": "f667626e-d949-45cd-bf88-c70b20e572b1",
   "metadata": {},
   "outputs": [],
   "source": [
    "d1 = date(year=2011, month=10, day=19)\n",
    "d2 = date(year=2011, month=10, day=18)"
   ]
  },
  {
   "cell_type": "code",
   "execution_count": 18,
   "id": "0fd90f9d-14e6-4866-90fd-280b73507ffb",
   "metadata": {},
   "outputs": [
    {
     "data": {
      "text/plain": [
       "datetime.timedelta(days=1)"
      ]
     },
     "execution_count": 18,
     "metadata": {},
     "output_type": "execute_result"
    }
   ],
   "source": [
    "d1 - d2"
   ]
  },
  {
   "cell_type": "code",
   "execution_count": 23,
   "id": "f5117be5-281a-460a-bc03-ff54774011d9",
   "metadata": {},
   "outputs": [
    {
     "data": {
      "text/plain": [
       "datetime.timedelta(days=734136)"
      ]
     },
     "execution_count": 23,
     "metadata": {},
     "output_type": "execute_result"
    }
   ],
   "source": [
    "d1 = date(year=1, month=10, day=19)\n",
    "d2 = date(year=2011, month=10, day=18)\n",
    "delta = d2 - d1\n",
    "delta"
   ]
  },
  {
   "cell_type": "code",
   "execution_count": 24,
   "id": "77d2ebc2-a1fd-4ad5-8973-4009934b0d6e",
   "metadata": {},
   "outputs": [
    {
     "data": {
      "text/plain": [
       "734136"
      ]
     },
     "execution_count": 24,
     "metadata": {},
     "output_type": "execute_result"
    }
   ],
   "source": [
    "delta.days"
   ]
  },
  {
   "cell_type": "markdown",
   "id": "7750a670-96ec-4b30-9639-a49d2e25b251",
   "metadata": {},
   "source": [
    "## k911. 數錢\n",
    "https://zerojudge.tw/ShowProblem?problemid=k911"
   ]
  },
  {
   "cell_type": "code",
   "execution_count": 27,
   "id": "40744009-de5e-4983-a4c4-f6b2699647a6",
   "metadata": {},
   "outputs": [],
   "source": [
    "from collections import Counter"
   ]
  },
  {
   "cell_type": "code",
   "execution_count": 28,
   "id": "ec7db832-7dd7-41e8-b366-a1a0cf9b774f",
   "metadata": {},
   "outputs": [],
   "source": [
    "values = [1, 50, 500, 1, 500, 10, 100, 50, 1000, 500]"
   ]
  },
  {
   "cell_type": "code",
   "execution_count": 30,
   "id": "a7eaaf74-8097-49fb-b6cd-ebd0d1fa58c1",
   "metadata": {},
   "outputs": [],
   "source": [
    "counts = Counter(values)"
   ]
  },
  {
   "cell_type": "code",
   "execution_count": 33,
   "id": "0d511fc8-e7d3-47b8-bd27-980b39313163",
   "metadata": {},
   "outputs": [
    {
     "data": {
      "text/plain": [
       "Counter({500: 3, 1: 2, 50: 2, 10: 1, 100: 1, 1000: 1})"
      ]
     },
     "execution_count": 33,
     "metadata": {},
     "output_type": "execute_result"
    }
   ],
   "source": [
    "counts"
   ]
  },
  {
   "cell_type": "code",
   "execution_count": 34,
   "id": "fec94ea2-dc9b-456c-a426-5b6f01da664e",
   "metadata": {},
   "outputs": [
    {
     "data": {
      "text/plain": [
       "{1: 2, 50: 2, 500: 3, 10: 1, 100: 1, 1000: 1}"
      ]
     },
     "execution_count": 34,
     "metadata": {},
     "output_type": "execute_result"
    }
   ],
   "source": [
    "dict(counts)"
   ]
  },
  {
   "cell_type": "code",
   "execution_count": null,
   "id": "ed3e5551-7c3a-42ec-8137-59e95eaa7e36",
   "metadata": {},
   "outputs": [],
   "source": []
  }
 ],
 "metadata": {
  "kernelspec": {
   "display_name": "Python 3 (ipykernel)",
   "language": "python",
   "name": "python3"
  },
  "language_info": {
   "codemirror_mode": {
    "name": "ipython",
    "version": 3
   },
   "file_extension": ".py",
   "mimetype": "text/x-python",
   "name": "python",
   "nbconvert_exporter": "python",
   "pygments_lexer": "ipython3",
   "version": "3.10.11"
  }
 },
 "nbformat": 4,
 "nbformat_minor": 5
}
