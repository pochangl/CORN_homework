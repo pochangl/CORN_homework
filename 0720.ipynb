{
 "cells": [
  {
   "cell_type": "markdown",
   "id": "40995c3a-0f0a-4c1e-8efe-58cf6927f072",
   "metadata": {},
   "source": [
    "# 新作業問答"
   ]
  },
  {
   "cell_type": "code",
   "execution_count": null,
   "id": "58ed6f92-607e-4d19-86de-8f859925cf62",
   "metadata": {},
   "outputs": [],
   "source": []
  },
  {
   "cell_type": "markdown",
   "id": "7d923793-b64c-4057-aa49-d2496590261b",
   "metadata": {},
   "source": [
    "# 舊作業問答"
   ]
  },
  {
   "cell_type": "markdown",
   "id": "cfb3d2fa-c1ca-4475-a892-f11b28bb90ac",
   "metadata": {},
   "source": [
    "https://zerojudge.tw/ShowProblem?problemid=d010"
   ]
  },
  {
   "cell_type": "code",
   "execution_count": null,
   "id": "f711e3d1-caba-4e19-8882-9f1df0721d17",
   "metadata": {},
   "outputs": [],
   "source": []
  }
 ],
 "metadata": {
  "kernelspec": {
   "display_name": "Python 3 (ipykernel)",
   "language": "python",
   "name": "python3"
  },
  "language_info": {
   "codemirror_mode": {
    "name": "ipython",
    "version": 3
   },
   "file_extension": ".py",
   "mimetype": "text/x-python",
   "name": "python",
   "nbconvert_exporter": "python",
   "pygments_lexer": "ipython3",
   "version": "3.10.11"
  }
 },
 "nbformat": 4,
 "nbformat_minor": 5
}
