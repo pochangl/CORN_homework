{
 "cells": [
  {
   "cell_type": "markdown",
   "id": "40995c3a-0f0a-4c1e-8efe-58cf6927f072",
   "metadata": {},
   "source": [
    "# 新作業問答"
   ]
  },
  {
   "cell_type": "markdown",
   "id": "8dd36780-bc74-4978-9cd3-40da14053c7b",
   "metadata": {},
   "source": [
    "## a218.\n",
    "https://zerojudge.tw/ShowProblem?problemid=a218"
   ]
  },
  {
   "cell_type": "markdown",
   "id": "9656c2b2-828c-4dea-9aed-a2c5f5d5713a",
   "metadata": {},
   "source": [
    "提示1. 用 while loop 取得 inputs, 需要處理 EOF 的問題"
   ]
  },
  {
   "cell_type": "code",
   "execution_count": null,
   "id": "a8d618eb-8fe4-42ac-80af-0879b1994d77",
   "metadata": {},
   "outputs": [],
   "source": [
    "while True:\n",
    "    try:\n",
    "        data = input().split()\n",
    "    except:\n",
    "        break"
   ]
  },
  {
   "cell_type": "markdown",
   "id": "b833ee8c-bcfd-4aec-9892-230912fb6270",
   "metadata": {},
   "source": [
    "提示2.\n",
    "之前作業的解答可以參考\n",
    "\n",
    "https://zerojudge.tw/ShowProblem?problemid=k911"
   ]
  },
  {
   "cell_type": "markdown",
   "id": "68bcb292-9347-47d5-a62d-c39758fd428e",
   "metadata": {},
   "source": [
    "## a144. 整數分拆\n",
    "https://zerojudge.tw/ShowProblem?problemid=a144"
   ]
  },
  {
   "cell_type": "markdown",
   "id": "cf1c6a96-feaa-4a8e-bf41-e17e8861e64e",
   "metadata": {
    "jp-MarkdownHeadingCollapsed": true
   },
   "source": [
    "1. 基本上就是窮舉所有正整數合的組合\n",
    "2. 數字由小到大列印出來\n",
    "3. "
   ]
  },
  {
   "cell_type": "markdown",
   "id": "89b4b0bd-5d34-4ed3-b058-92815c0ae131",
   "metadata": {},
   "source": [
    "## a264. 骰子疊疊樂\n",
    "https://zerojudge.tw/ShowProblem?problemid=a264"
   ]
  },
  {
   "cell_type": "code",
   "execution_count": null,
   "id": "9c33d388-6fd3-411d-a244-16df0884995e",
   "metadata": {},
   "outputs": [],
   "source": []
  },
  {
   "cell_type": "code",
   "execution_count": null,
   "id": "e1c3264c-a33d-478a-9c34-ef9b98878cef",
   "metadata": {},
   "outputs": [],
   "source": [
    "# 舊作業問答"
   ]
  },
  {
   "cell_type": "markdown",
   "id": "cfb3d2fa-c1ca-4475-a892-f11b28bb90ac",
   "metadata": {},
   "source": [
    "https://zerojudge.tw/ShowProblem?problemid=d010"
   ]
  },
  {
   "cell_type": "code",
   "execution_count": null,
   "id": "f711e3d1-caba-4e19-8882-9f1df0721d17",
   "metadata": {},
   "outputs": [],
   "source": []
  }
 ],
 "metadata": {
  "kernelspec": {
   "display_name": "Python 3 (ipykernel)",
   "language": "python",
   "name": "python3"
  },
  "language_info": {
   "codemirror_mode": {
    "name": "ipython",
    "version": 3
   },
   "file_extension": ".py",
   "mimetype": "text/x-python",
   "name": "python",
   "nbconvert_exporter": "python",
   "pygments_lexer": "ipython3",
   "version": "3.10.11"
  }
 },
 "nbformat": 4,
 "nbformat_minor": 5
}
