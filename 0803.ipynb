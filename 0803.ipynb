{
 "cells": [
  {
   "cell_type": "markdown",
   "metadata": {},
   "source": [
    "#本周作業\n",
    "## b971. 等差數列\n",
    "https://zerojudge.tw/ShowProblem?problemid=b971"
   ]
  },
  {
   "cell_type": "markdown",
   "metadata": {},
   "source": [
    "\n",
    "## a647. 投資專家\n",
    "https://zerojudge.tw/ShowProblem?problemid=a647"
   ]
  },
  {
   "cell_type": "markdown",
   "metadata": {},
   "source": [
    "## b572. 忘了東西的傑克\n",
    "https://zerojudge.tw/ShowProblem?problemid=b572"
   ]
  },
  {
   "cell_type": "markdown",
   "metadata": {},
   "source": [
    "#上周作業\n",
    "## a148. You Cannot Pass?!\n",
    "https://zerojudge.tw/ShowProblem?problemid=a148"
   ]
  },
  {
   "cell_type": "markdown",
   "metadata": {},
   "source": [
    "## a915. 二维点排序\n",
    "https://zerojudge.tw/ShowProblem?problemid=a915"
   ]
  },
  {
   "cell_type": "markdown",
   "metadata": {},
   "source": [
    "## a981. 求和問題\n",
    "https://zerojudge.tw/ShowProblem?problemid=a981"
   ]
  },
  {
   "cell_type": "markdown",
   "metadata": {},
   "source": [
    "# 上周課\n",
    "https://github.com/vcdemy/20230613/blob/main/20230801%E7%AD%86%E8%A8%98.ipynb"
   ]
  },
  {
   "cell_type": "markdown",
   "metadata": {},
   "source": [
    "## OOP?"
   ]
  },
  {
   "cell_type": "code",
   "execution_count": 2,
   "metadata": {},
   "outputs": [],
   "source": [
    "class ClassName:\n",
    "    property: int # 屬性\n",
    "\n",
    "    def __init__(self, arg): # 初始 (initialization) 函數\n",
    "        self.property = arg\n",
    "\n",
    "    def method(self): # \n",
    "        self.property = self.property + 1\n"
   ]
  },
  {
   "cell_type": "code",
   "execution_count": 10,
   "metadata": {},
   "outputs": [
    {
     "name": "stdout",
     "output_type": "stream",
     "text": [
      "7\n",
      "4\n"
     ]
    }
   ],
   "source": [
    "words = [\n",
    "    # 單字, 按讚人數, 查詢次數\n",
    "    ['progress', 1, 2],\n",
    "    ['reverse' , 3, 5],\n",
    "]\n",
    "\n",
    "# 計算總查詢次數\n",
    "print(sum(word[2] for word in words))\n",
    "\n",
    "# 計算總讚人數\n",
    "print(sum(word[1] for word in words))"
   ]
  },
  {
   "cell_type": "code",
   "execution_count": 11,
   "metadata": {},
   "outputs": [
    {
     "name": "stdout",
     "output_type": "stream",
     "text": [
      "7\n",
      "4\n"
     ]
    }
   ],
   "source": [
    "class Word:\n",
    "    def __init__(self, word, likes, visits):\n",
    "        self.word = word\n",
    "        self.likes = likes\n",
    "        self.visits = visits\n",
    "\n",
    "words = [\n",
    "    Word(word='progress', likes=1, visits=2),\n",
    "    Word(word='reverse', likes=3, visits=5),\n",
    "]\n",
    "\n",
    "# 計算總查詢次數\n",
    "print(sum(word.visits for word in words))\n",
    "\n",
    "print(sum(word.likes for word in words))"
   ]
  },
  {
   "cell_type": "code",
   "execution_count": null,
   "metadata": {},
   "outputs": [],
   "source": []
  }
 ],
 "metadata": {
  "kernelspec": {
   "display_name": "Python 3",
   "language": "python",
   "name": "python3"
  },
  "language_info": {
   "codemirror_mode": {
    "name": "ipython",
    "version": 3
   },
   "file_extension": ".py",
   "mimetype": "text/x-python",
   "name": "python",
   "nbconvert_exporter": "python",
   "pygments_lexer": "ipython3",
   "version": "3.8.10"
  },
  "orig_nbformat": 4
 },
 "nbformat": 4,
 "nbformat_minor": 2
}
