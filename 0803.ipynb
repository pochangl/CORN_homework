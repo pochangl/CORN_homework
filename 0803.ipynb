{
 "cells": [
  {
   "cell_type": "markdown",
   "metadata": {},
   "source": [
    "#本周作業\n",
    "## b971. 等差數列\n",
    "https://zerojudge.tw/ShowProblem?problemid=b971"
   ]
  },
  {
   "cell_type": "markdown",
   "metadata": {},
   "source": [
    "\n",
    "## a647. 投資專家\n",
    "https://zerojudge.tw/ShowProblem?problemid=a647"
   ]
  },
  {
   "cell_type": "markdown",
   "metadata": {},
   "source": [
    "## b572. 忘了東西的傑克\n",
    "https://zerojudge.tw/ShowProblem?problemid=b572"
   ]
  },
  {
   "cell_type": "markdown",
   "metadata": {},
   "source": [
    "#上周作業\n",
    "## a148. You Cannot Pass?!\n",
    "https://zerojudge.tw/ShowProblem?problemid=a148"
   ]
  },
  {
   "cell_type": "markdown",
   "metadata": {},
   "source": [
    "## a915. 二维点排序\n",
    "https://zerojudge.tw/ShowProblem?problemid=a915"
   ]
  },
  {
   "cell_type": "code",
   "execution_count": 17,
   "metadata": {},
   "outputs": [
    {
     "data": {
      "text/plain": [
       "[(0, 1), (1, 0), (1, 2), (10, 1)]"
      ]
     },
     "execution_count": 17,
     "metadata": {},
     "output_type": "execute_result"
    }
   ],
   "source": [
    "points = [(0, 1), (1, 0), (1, 2), (10, 1)]\n",
    "points.sort(key=lambda point: point[0] * 100000 + point[1])\n",
    "points"
   ]
  },
  {
   "cell_type": "markdown",
   "metadata": {},
   "source": [
    "## a981. 求和問題\n",
    "https://zerojudge.tw/ShowProblem?problemid=a981"
   ]
  },
  {
   "cell_type": "code",
   "execution_count": 22,
   "metadata": {},
   "outputs": [
    {
     "ename": "NameError",
     "evalue": "name 'dfs' is not defined",
     "output_type": "error",
     "traceback": [
      "\u001b[1;31m---------------------------------------------------------------------------\u001b[0m",
      "\u001b[1;31mNameError\u001b[0m                                 Traceback (most recent call last)",
      "Cell \u001b[1;32mIn[22], line 8\u001b[0m\n\u001b[0;32m      5\u001b[0m nums\u001b[39m.\u001b[39msort()\n\u001b[0;32m      6\u001b[0m nums\n\u001b[1;32m----> 8\u001b[0m dfs(target\u001b[39m=\u001b[39m\u001b[39m100\u001b[39m, acc\u001b[39m=\u001b[39m\u001b[39m0\u001b[39m, choices\u001b[39m=\u001b[39mnums)\n",
      "\u001b[1;31mNameError\u001b[0m: name 'dfs' is not defined"
     ]
    }
   ],
   "source": [
    "from itertools import combinations\n",
    "\n",
    "def dfs(target, acc, choices):\n",
    "    pass\n",
    "\n",
    "nums = [10, 20, 40, 30, 50, 80, 60, 70, 5, 15]\n",
    "nums.sort()\n",
    "nums\n",
    "\n",
    "dfs(target=100, acc=0, choices=nums)\n"
   ]
  },
  {
   "cell_type": "code",
   "execution_count": null,
   "metadata": {},
   "outputs": [],
   "source": [
    "[1, 1, 2, 3, 5, 8]\n",
    "\n",
    "def fibonacii(nth):\n",
    "    if nth == 1:\n",
    "        return 1\n",
    "    elif nth == 2:\n",
    "        return 1\n",
    "    return fibonacii(nth-1) + fibonacii(nth-2)"
   ]
  },
  {
   "cell_type": "markdown",
   "metadata": {},
   "source": [
    "# 上周課\n",
    "https://github.com/vcdemy/20230613/blob/main/20230801%E7%AD%86%E8%A8%98.ipynb"
   ]
  },
  {
   "cell_type": "markdown",
   "metadata": {},
   "source": [
    "## List interpretation?"
   ]
  },
  {
   "cell_type": "code",
   "execution_count": 2,
   "metadata": {},
   "outputs": [
    {
     "data": {
      "text/plain": [
       "[0, 1, 4, 9, 16, 25, 36, 49, 64, 81]"
      ]
     },
     "execution_count": 2,
     "metadata": {},
     "output_type": "execute_result"
    }
   ],
   "source": [
    "numbers = [i**2 for i in range(10)]\n",
    "numbers"
   ]
  },
  {
   "cell_type": "code",
   "execution_count": 7,
   "metadata": {},
   "outputs": [
    {
     "data": {
      "text/plain": [
       "[0, 1, 4, 9, 16, 25, 36, 49, 64, 81]"
      ]
     },
     "execution_count": 7,
     "metadata": {},
     "output_type": "execute_result"
    }
   ],
   "source": [
    "numbers = []\n",
    "\n",
    "for i in range(10):\n",
    "    numbers.append(i**2)\n",
    "\n",
    "numbers"
   ]
  },
  {
   "cell_type": "code",
   "execution_count": 18,
   "metadata": {},
   "outputs": [
    {
     "name": "stdout",
     "output_type": "stream",
     "text": [
      "(1, 3)\n",
      "(2, 4)\n"
     ]
    }
   ],
   "source": [
    "x = [1, 2]\n",
    "y = [3, 4]\n",
    "\n",
    "for x, y in zip(x, y):\n",
    "    print((x, y))"
   ]
  },
  {
   "cell_type": "code",
   "execution_count": null,
   "metadata": {},
   "outputs": [],
   "source": [
    "ids = ['TC01', 'TC02']\n",
    "\n",
    "[dbc.Button(id,  id=id) for id in ids]\n"
   ]
  },
  {
   "cell_type": "markdown",
   "metadata": {},
   "source": [
    "## OOP?"
   ]
  },
  {
   "cell_type": "code",
   "execution_count": 19,
   "metadata": {},
   "outputs": [
    {
     "name": "stdout",
     "output_type": "stream",
     "text": [
      "實例 1 1\n",
      "實例 2 2\n"
     ]
    },
    {
     "data": {
      "text/plain": [
       "'\\ninstance 是 ClassName 的實例\\n'"
      ]
     },
     "execution_count": 19,
     "metadata": {},
     "output_type": "execute_result"
    }
   ],
   "source": [
    "class ClassName:\n",
    "    ''' 我是 class 的註解'''\n",
    "    \n",
    "    attribute: int # 屬性\n",
    "    ''' 我是屬性的註解'''\n",
    "\n",
    "    def __init__(self, arg): # 初始 (initialization) 函數\n",
    "        self.attribute = arg\n",
    "\n",
    "    def method(self):  # 成員函數 (member function/method)\n",
    "        self.attribute = self.attribute + 1\n",
    "\n",
    "\n",
    "instance = ClassName(1)\n",
    "instance2 = ClassName(2)\n",
    "\n",
    "print('實例 1:', instance.attribute)\n",
    "print('實例 2:', instance2.attribute)\n",
    "'''\n",
    "instance 是 ClassName 的實例\n",
    "'''\n"
   ]
  },
  {
   "cell_type": "markdown",
   "metadata": {},
   "source": [
    "### OOP 範例 1"
   ]
  },
  {
   "cell_type": "markdown",
   "metadata": {},
   "source": [
    "#### 使用 list"
   ]
  },
  {
   "cell_type": "code",
   "execution_count": 8,
   "metadata": {},
   "outputs": [
    {
     "name": "stdout",
     "output_type": "stream",
     "text": [
      "7\n",
      "4\n",
      "['progress', 'reverse']\n"
     ]
    },
    {
     "data": {
      "text/plain": [
       "['progress', 2, 3]"
      ]
     },
     "execution_count": 8,
     "metadata": {},
     "output_type": "execute_result"
    }
   ],
   "source": [
    "words = [\n",
    "    # 單字, 按讚人數, 查詢次數\n",
    "    ['progress', 1, 2],\n",
    "    ['reverse' , 3, 5],\n",
    "]\n",
    "\n",
    "print(sum(word[2] for word in words))  # 查詢次數總合\n",
    "\n",
    "print(sum(word[1] for word in words))\n",
    "\n",
    "print(list(word[0] for word in words))\n",
    "\n",
    "words[0][1] += 1\n",
    "\n",
    "words[0][2] += 1\n",
    "\n",
    "words.sort(key=lambda word: word[1])\n",
    "words[0]\n"
   ]
  },
  {
   "cell_type": "markdown",
   "metadata": {},
   "source": [
    "#### 使用 class"
   ]
  },
  {
   "cell_type": "code",
   "execution_count": 21,
   "metadata": {},
   "outputs": [
    {
     "name": "stdout",
     "output_type": "stream",
     "text": [
      "7\n",
      "4\n",
      "['progress', 'reverse']\n",
      "['pro', 'gress']\n"
     ]
    },
    {
     "data": {
      "text/plain": [
       "<__main__.Word at 0x2d35e844cd0>"
      ]
     },
     "execution_count": 21,
     "metadata": {},
     "output_type": "execute_result"
    }
   ],
   "source": [
    "class Word:\n",
    "    visits: int\n",
    "    ''' 查詢次數 '''\n",
    "\n",
    "    likes: int\n",
    "    ''' 按讚次數 '''\n",
    "\n",
    "    word: str\n",
    "    ''' 單字 '''\n",
    "\n",
    "    prs: list\n",
    "    ''' 字首字根字尾 '''\n",
    " \n",
    "    def __init__(self, word, likes, visits, prs = None):\n",
    "        self.word = word\n",
    "        self.likes = likes\n",
    "        self.visits = visits\n",
    "        self.prs = prs or []\n",
    "\n",
    "words = [\n",
    "    Word(word='progress', likes=1, visits=2, prs=['pro', 'gress']),\n",
    "    Word(word='reverse', likes=3, visits=5, prs=['re', 'vert']),\n",
    "]\n",
    "\n",
    "print(sum(word.visits for word in words))  # 查詢次數總合\n",
    "\n",
    "print(sum(word.likes for word in words))  # 安讚次數的總合\n",
    "\n",
    "print(list(word.word for word in words))  # print 出所有單字\n",
    "\n",
    "words[0].likes += 1\n",
    "\n",
    "words[0].visits += 1\n",
    "\n",
    "print(words[0].prs)\n",
    "\n",
    "print(words[0].likes)\n",
    "\n",
    "words.sort(key=lambda word: word.likes)\n",
    "words[0]"
   ]
  },
  {
   "cell_type": "code",
   "execution_count": null,
   "metadata": {},
   "outputs": [],
   "source": [
    "words = [\n",
    "    {'word': 'progress', 'likes': 1},\n",
    "]\n",
    "\n",
    "print(words[0]['likes'])"
   ]
  },
  {
   "cell_type": "markdown",
   "metadata": {},
   "source": [
    "#### 使用 pandas"
   ]
  },
  {
   "cell_type": "code",
   "execution_count": 11,
   "metadata": {},
   "outputs": [
    {
     "name": "stdout",
     "output_type": "stream",
     "text": [
      "4\n",
      "7\n",
      "0    progress\n",
      "1     reverse\n",
      "Name: word, dtype: object\n"
     ]
    }
   ],
   "source": [
    "import pandas as pd\n",
    "df = pd.DataFrame([\n",
    "    {'word': 'progress', 'likes': 1, 'visits': 2},\n",
    "    {'word': 'reverse', 'likes': 3, 'visits': 5},\n",
    "], columns=['word', 'likes', 'visits'])\n",
    "\n",
    "# print(sum(word.visits for word in words))  OOP 的作法\n",
    "print(df.likes.sum()) # 按讚次數總數\n",
    "print(df.visits.sum())\n",
    "print(df.word)\n",
    "\n",
    "# words[0].likes += 1 OOP 的作法\n",
    "df = df.set_index('word')\n",
    "df.loc[['progress'], 'likes'] += 1\n",
    "\n",
    "df.loc[['progress'], 'visits'] += 1\n"
   ]
  },
  {
   "cell_type": "code",
   "execution_count": 3,
   "metadata": {},
   "outputs": [
    {
     "name": "stderr",
     "output_type": "stream",
     "text": [
      "'pip' ���O�����Υ~���R�O�B�i���檺�{���Χ妸�ɡC\n"
     ]
    }
   ],
   "source": []
  },
  {
   "cell_type": "code",
   "execution_count": null,
   "metadata": {},
   "outputs": [],
   "source": []
  },
  {
   "cell_type": "code",
   "execution_count": null,
   "metadata": {},
   "outputs": [],
   "source": []
  }
 ],
 "metadata": {
  "kernelspec": {
   "display_name": "Python 3",
   "language": "python",
   "name": "python3"
  },
  "language_info": {
   "codemirror_mode": {
    "name": "ipython",
    "version": 3
   },
   "file_extension": ".py",
   "mimetype": "text/x-python",
   "name": "python",
   "nbconvert_exporter": "python",
   "pygments_lexer": "ipython3",
   "version": "3.10.11"
  },
  "orig_nbformat": 4
 },
 "nbformat": 4,
 "nbformat_minor": 2
}
