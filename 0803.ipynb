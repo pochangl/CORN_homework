{
 "cells": [
  {
   "cell_type": "markdown",
   "metadata": {},
   "source": [
    "#本周作業\n",
    "## b971. 等差數列\n",
    "https://zerojudge.tw/ShowProblem?problemid=b971"
   ]
  },
  {
   "cell_type": "markdown",
   "metadata": {},
   "source": [
    "\n",
    "## a647. 投資專家\n",
    "https://zerojudge.tw/ShowProblem?problemid=a647"
   ]
  },
  {
   "cell_type": "markdown",
   "metadata": {},
   "source": [
    "## b572. 忘了東西的傑克\n",
    "https://zerojudge.tw/ShowProblem?problemid=b572"
   ]
  },
  {
   "cell_type": "markdown",
   "metadata": {},
   "source": [
    "#上周作業\n",
    "## a148. You Cannot Pass?!\n",
    "https://zerojudge.tw/ShowProblem?problemid=a148"
   ]
  },
  {
   "cell_type": "markdown",
   "metadata": {},
   "source": [
    "## a915. 二维点排序\n",
    "https://zerojudge.tw/ShowProblem?problemid=a915"
   ]
  },
  {
   "cell_type": "markdown",
   "metadata": {},
   "source": [
    "## a981. 求和問題\n",
    "https://zerojudge.tw/ShowProblem?problemid=a981"
   ]
  },
  {
   "cell_type": "markdown",
   "metadata": {},
   "source": [
    "# 上周課\n",
    "https://github.com/vcdemy/20230613/blob/main/20230801%E7%AD%86%E8%A8%98.ipynb"
   ]
  },
  {
   "cell_type": "markdown",
   "metadata": {},
   "source": [
    "## List interpretation?"
   ]
  },
  {
   "cell_type": "code",
   "execution_count": 2,
   "metadata": {},
   "outputs": [
    {
     "data": {
      "text/plain": [
       "[0, 1, 4, 9, 16, 25, 36, 49, 64, 81]"
      ]
     },
     "execution_count": 2,
     "metadata": {},
     "output_type": "execute_result"
    }
   ],
   "source": [
    "numbers = [i**2 for i in range(10)]\n",
    "numbers"
   ]
  },
  {
   "cell_type": "code",
   "execution_count": 7,
   "metadata": {},
   "outputs": [
    {
     "data": {
      "text/plain": [
       "[0, 1, 4, 9, 16, 25, 36, 49, 64, 81]"
      ]
     },
     "execution_count": 7,
     "metadata": {},
     "output_type": "execute_result"
    }
   ],
   "source": [
    "numbers = []\n",
    "\n",
    "for i in range(10):\n",
    "    numbers.append(i**2)\n",
    "\n",
    "numbers"
   ]
  },
  {
   "cell_type": "markdown",
   "metadata": {},
   "source": [
    "## OOP?"
   ]
  },
  {
   "cell_type": "code",
   "execution_count": 2,
   "metadata": {},
   "outputs": [],
   "source": [
    "class ClassName:\n",
    "    ''' 我是 class 的註解'''\n",
    "    \n",
    "    attribute: int # 屬性\n",
    "    ''' 我是屬性的註解'''\n",
    "\n",
    "    def __init__(self, arg): # 初始 (initialization) 函數\n",
    "        self.attribute = arg\n",
    "\n",
    "    def method(self):  # 成員函數 (member function/method)\n",
    "        self.attribute = self.attribute + 1\n",
    "\n",
    "\n",
    "\n",
    "instance = ClassName(1)\n",
    "'''\n",
    "instance 是 ClassName 的實例\n",
    "'''\n"
   ]
  },
  {
   "cell_type": "markdown",
   "metadata": {},
   "source": [
    "### OOP 範例 1"
   ]
  },
  {
   "cell_type": "markdown",
   "metadata": {},
   "source": [
    "#### 使用 list"
   ]
  },
  {
   "cell_type": "code",
   "execution_count": 8,
   "metadata": {},
   "outputs": [
    {
     "name": "stdout",
     "output_type": "stream",
     "text": [
      "7\n",
      "4\n",
      "['progress', 'reverse']\n"
     ]
    },
    {
     "data": {
      "text/plain": [
       "['progress', 2, 3]"
      ]
     },
     "execution_count": 8,
     "metadata": {},
     "output_type": "execute_result"
    }
   ],
   "source": [
    "words = [\n",
    "    # 單字, 按讚人數, 查詢次數\n",
    "    ['progress', 1, 2],\n",
    "    ['reverse' , 3, 5],\n",
    "]\n",
    "\n",
    "print(sum(word[2] for word in words))\n",
    "\n",
    "print(sum(word[1] for word in words))\n",
    "\n",
    "print(list(word[0] for word in words))\n",
    "\n",
    "words[0][1] += 1\n",
    "\n",
    "words[0][2] += 1\n",
    "\n",
    "words.sort(key=lambda word: word[1])\n",
    "words[0]\n"
   ]
  },
  {
   "cell_type": "markdown",
   "metadata": {},
   "source": [
    "#### 使用 class"
   ]
  },
  {
   "cell_type": "code",
   "execution_count": 2,
   "metadata": {},
   "outputs": [
    {
     "name": "stdout",
     "output_type": "stream",
     "text": [
      "7\n",
      "4\n",
      "['progress', 'reverse']\n"
     ]
    },
    {
     "data": {
      "text/plain": [
       "<__main__.Word at 0x7ff2bc617820>"
      ]
     },
     "execution_count": 2,
     "metadata": {},
     "output_type": "execute_result"
    }
   ],
   "source": [
    "class Word:\n",
    "    def __init__(self, word, likes, visits):\n",
    "        self.word = word\n",
    "        self.likes = likes\n",
    "        self.visits = visits\n",
    "\n",
    "words = [\n",
    "    Word(word='progress', likes=1, visits=2),\n",
    "    Word(word='reverse', likes=3, visits=5),\n",
    "]\n",
    "\n",
    "print(sum(word.visits for word in words))\n",
    "\n",
    "print(sum(word.likes for word in words))\n",
    "\n",
    "print(list(word.word for word in words))\n",
    "\n",
    "words[0].likes += 1\n",
    "\n",
    "words[0].visits += 1\n",
    "\n",
    "words.sort(key=lambda word: word.likes)\n",
    "words[0]"
   ]
  },
  {
   "cell_type": "markdown",
   "metadata": {},
   "source": [
    "#### 使用 pandas"
   ]
  },
  {
   "cell_type": "code",
   "execution_count": 11,
   "metadata": {},
   "outputs": [
    {
     "name": "stdout",
     "output_type": "stream",
     "text": [
      "4\n",
      "7\n",
      "0    progress\n",
      "1     reverse\n",
      "Name: word, dtype: object\n"
     ]
    }
   ],
   "source": [
    "import pandas as pd\n",
    "df = pd.DataFrame([\n",
    "    {'word': 'progress', 'likes': 1, 'visits': 2},\n",
    "    {'word': 'reverse', 'likes': 3, 'visits': 5},\n",
    "], columns=['word', 'likes', 'visits'])\n",
    "\n",
    "\n",
    "print(df.likes.sum())\n",
    "print(df.visits.sum())\n",
    "print(df.word)\n",
    "df = df.set_index('word')\n",
    "\n",
    "df.loc[['progress'], 'likes'] += 1\n",
    "df.loc[['progress'], 'visits'] += 1\n"
   ]
  }
 ],
 "metadata": {
  "kernelspec": {
   "display_name": "Python 3",
   "language": "python",
   "name": "python3"
  },
  "language_info": {
   "codemirror_mode": {
    "name": "ipython",
    "version": 3
   },
   "file_extension": ".py",
   "mimetype": "text/x-python",
   "name": "python",
   "nbconvert_exporter": "python",
   "pygments_lexer": "ipython3",
   "version": "3.10.11"
  },
  "orig_nbformat": 4
 },
 "nbformat": 4,
 "nbformat_minor": 2
}
