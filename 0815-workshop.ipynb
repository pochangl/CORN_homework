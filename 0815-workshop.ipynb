{
 "cells": [
  {
   "cell_type": "markdown",
   "metadata": {},
   "source": [
    "# Count down"
   ]
  },
  {
   "cell_type": "code",
   "execution_count": null,
   "metadata": {
    "vscode": {
     "languageId": "plaintext"
    }
   },
   "outputs": [],
   "source": [
    "https://dash-example-index.herokuapp.com/countdown\n",
    "\n",
    "我們做一個這樣的頁面\n",
    "1個 input, 1 個 按鈕, 1 個倒數針計時器, \n",
    "\n",
    "mp3 檔案\n",
    "https://dash-example-index.herokuapp.com/assets/clock-alarm-8761.mp3"
   ]
  },
  {
   "cell_type": "markdown",
   "metadata": {},
   "source": [
    "# 股市示警"
   ]
  },
  {
   "cell_type": "code",
   "execution_count": null,
   "metadata": {
    "vscode": {
     "languageId": "plaintext"
    }
   },
   "outputs": [],
   "source": [
    "同時顯示多個股市昨天的漲跌狀況\n",
    "漲的紅, 跌的綠\n",
    "\n",
    "點選股票代號後, 顯示當月的股市圖"
   ]
  }
 ],
 "metadata": {
  "language_info": {
   "name": "python"
  },
  "orig_nbformat": 4
 },
 "nbformat": 4,
 "nbformat_minor": 2
}
