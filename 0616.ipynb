{
 "cells": [
  {
   "cell_type": "markdown",
   "metadata": {},
   "source": [
    "上堂課的 notebook\n",
    "\n",
    "https://github.com/vcdemy/20230613/blob/main/20230613%E7%AD%86%E8%A8%98.ipynb"
   ]
  },
  {
   "attachments": {},
   "cell_type": "markdown",
   "metadata": {},
   "source": [
    "# 作業"
   ]
  },
  {
   "attachments": {},
   "cell_type": "markdown",
   "metadata": {},
   "source": [
    "## a038. 數字翻轉\n",
    "https://zerojudge.tw/ShowProblem?problemid=a038"
   ]
  },
  {
   "attachments": {},
   "cell_type": "markdown",
   "metadata": {},
   "source": [
    "## k860. 重複數字\n",
    "https://zerojudge.tw/ShowProblem?problemid=k860"
   ]
  },
  {
   "attachments": {},
   "cell_type": "markdown",
   "metadata": {},
   "source": [
    "## k861. 驗證費氏數列\n",
    "https://zerojudge.tw/ShowProblem?problemid=k861"
   ]
  },
  {
   "cell_type": "markdown",
   "metadata": {},
   "source": [
    "# 上次作業"
   ]
  },
  {
   "cell_type": "markdown",
   "metadata": {},
   "source": [
    "## a244. 新手訓練 ~ for + i\n",
    "https://zerojudge.tw/ShowProblem?problemid=a244"
   ]
  },
  {
   "cell_type": "markdown",
   "metadata": {},
   "source": [
    "## k774. 高精度除法\n",
    "https://zerojudge.tw/ShowProblem?problemid=k774"
   ]
  },
  {
   "cell_type": "markdown",
   "metadata": {},
   "source": [
    "## h081. 程式交易\n",
    "https://zerojudge.tw/ShowProblem?problemid=h081"
   ]
  },
  {
   "attachments": {},
   "cell_type": "markdown",
   "metadata": {},
   "source": [
    "# 其它"
   ]
  },
  {
   "cell_type": "markdown",
   "metadata": {},
   "source": [
    "## container"
   ]
  },
  {
   "cell_type": "markdown",
   "metadata": {},
   "source": [
    "| container | 容器名 | 可改變 | 可 index | 有順序 | 特色 |\n",
    "| --- | --- | --- | --- | --- | --- |\n",
    "| (1, 2, 3) | --- | --- | --- | --- | --- |\n",
    "| \\[1, 2, 3] | --- | --- | --- | --- | --- |\n",
    "| {1, 2, 3} | --- | --- | --- | --- | --- |\n",
    "| {'a': 1} | --- | --- | --- | --- | --- |"
   ]
  },
  {
   "cell_type": "markdown",
   "metadata": {},
   "source": [
    "## Mutability"
   ]
  },
  {
   "cell_type": "markdown",
   "metadata": {},
   "source": [
    "## Container 的 indexing"
   ]
  },
  {
   "cell_type": "markdown",
   "metadata": {},
   "source": [
    "## Container 的內容有無順序"
   ]
  },
  {
   "attachments": {},
   "cell_type": "markdown",
   "metadata": {},
   "source": [
    "## List destructuring\n",
    "上次課堂有出現這個\n",
    "```python\n",
    "X_train, X_test, y_train, y_test = train_test_split(X, y, test_size=0.2  random_state=0)\n",
    "```"
   ]
  },
  {
   "attachments": {},
   "cell_type": "markdown",
   "metadata": {},
   "source": [
    "### 變數的 assignment 作法 1"
   ]
  },
  {
   "cell_type": "code",
   "execution_count": 6,
   "metadata": {},
   "outputs": [
    {
     "name": "stdout",
     "output_type": "stream",
     "text": [
      "99\n",
      "11\n",
      "8\n"
     ]
    }
   ],
   "source": [
    "arr = [99, 11, 8]\n",
    "a = arr[0]\n",
    "b = arr[1]\n",
    "c = arr[2]\n",
    "print(a)\n",
    "print(b)\n",
    "print(c)"
   ]
  },
  {
   "cell_type": "markdown",
   "metadata": {},
   "source": [
    "### 變數的 assignment 作法 2"
   ]
  },
  {
   "cell_type": "markdown",
   "metadata": {},
   "source": [
    "### 變數 swap 作法 1"
   ]
  },
  {
   "attachments": {},
   "cell_type": "markdown",
   "metadata": {},
   "source": [
    "### 變數 swap 作法 2"
   ]
  },
  {
   "cell_type": "markdown",
   "metadata": {},
   "source": [
    "### 費氏數列"
   ]
  },
  {
   "cell_type": "code",
   "execution_count": 5,
   "metadata": {},
   "outputs": [],
   "source": [
    "l = [1,2, 3]"
   ]
  },
  {
   "cell_type": "code",
   "execution_count": null,
   "metadata": {},
   "outputs": [],
   "source": []
  }
 ],
 "metadata": {
  "kernelspec": {
   "display_name": "Python 3 (ipykernel)",
   "language": "python",
   "name": "python3"
  },
  "language_info": {
   "codemirror_mode": {
    "name": "ipython",
    "version": 3
   },
   "file_extension": ".py",
   "mimetype": "text/x-python",
   "name": "python",
   "nbconvert_exporter": "python",
   "pygments_lexer": "ipython3",
   "version": "3.10.11"
  }
 },
 "nbformat": 4,
 "nbformat_minor": 4
}
